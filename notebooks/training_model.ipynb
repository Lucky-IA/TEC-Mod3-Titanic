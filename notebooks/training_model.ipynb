{
 "cells": [
  {
   "cell_type": "markdown",
   "metadata": {},
   "source": [
    "## Training Model"
   ]
  },
  {
   "cell_type": "code",
   "execution_count": 40,
   "metadata": {},
   "outputs": [],
   "source": [
    "import pandas as pd\n",
    "import numpy as np\n",
    "\n",
    "from sklearn.model_selection import train_test_split\n",
    "from sklearn.preprocessing import MinMaxScaler\n",
    "from sklearn.linear_model import LogisticRegression\n",
    "from sklearn.metrics import accuracy_score, roc_auc_score"
   ]
  },
  {
   "cell_type": "code",
   "execution_count": 27,
   "metadata": {},
   "outputs": [],
   "source": [
    "data_dir = \"../data/\""
   ]
  },
  {
   "cell_type": "code",
   "execution_count": 29,
   "metadata": {},
   "outputs": [],
   "source": [
    "def data_cleaning(save_df=False):\n",
    "    # data load\n",
    "    df = pd.read_csv(data_dir + \"raw/phpMYEkMl.csv\")\n",
    "\n",
    "    # replace char\n",
    "    df = df.replace(\"?\", np.nan)\n",
    "\n",
    "    # drop columns\n",
    "    drop_cols = [\"name\", \"sibsp\", \"parch\", \"ticket\", \"cabin\", \"boat\", \"body\", \"home.dest\"]\n",
    "    df = df.drop(columns=drop_cols)\n",
    "\n",
    "    # clean columns\n",
    "    df[\"sex\"] = np.where(df[\"sex\"]==\"female\", 0, 1)\n",
    "    df[\"sex\"] = df[\"sex\"].astype(\"int64\")\n",
    "\n",
    "    df[\"age\"] = df[\"age\"].astype(\"float\")\n",
    "    df[\"age\"] = df[\"age\"].fillna(value=df[\"age\"].mean())\n",
    "    df[\"age\"] = round(df[\"age\"],0)\n",
    "    df[\"age\"] = df[\"age\"].astype(\"int64\")\n",
    "\n",
    "    df[\"fare\"] = df[\"fare\"].astype(\"float\")\n",
    "    df[\"fare\"] = df[\"fare\"].fillna(value=df[\"fare\"].mean())\n",
    "    df[\"fare\"] = round(df[\"fare\"],2)\n",
    "\n",
    "    df[\"embarked\"] = df[\"embarked\"].fillna(method='ffill').fillna(method='bfill')\n",
    "    df[\"embarked\"] = df[\"embarked\"].replace(\"S\", 1)\n",
    "    df[\"embarked\"] = df[\"embarked\"].replace(\"C\", 2)\n",
    "    df[\"embarked\"] = df[\"embarked\"].replace(\"Q\", 3)    \n",
    "    df[\"embarked\"] = df[\"embarked\"].astype(\"int64\")\n",
    "    \n",
    "    # save dataframe\n",
    "    if save_df == True:\n",
    "        df.to_csv(data_dir + \"clean/titanic.csv\", index=False)\n",
    "\n",
    "    # return dataframe cleaned\n",
    "    return df"
   ]
  },
  {
   "cell_type": "code",
   "execution_count": 30,
   "metadata": {},
   "outputs": [
    {
     "data": {
      "text/html": [
       "<div>\n",
       "<style scoped>\n",
       "    .dataframe tbody tr th:only-of-type {\n",
       "        vertical-align: middle;\n",
       "    }\n",
       "\n",
       "    .dataframe tbody tr th {\n",
       "        vertical-align: top;\n",
       "    }\n",
       "\n",
       "    .dataframe thead th {\n",
       "        text-align: right;\n",
       "    }\n",
       "</style>\n",
       "<table border=\"1\" class=\"dataframe\">\n",
       "  <thead>\n",
       "    <tr style=\"text-align: right;\">\n",
       "      <th></th>\n",
       "      <th>pclass</th>\n",
       "      <th>survived</th>\n",
       "      <th>sex</th>\n",
       "      <th>age</th>\n",
       "      <th>fare</th>\n",
       "      <th>embarked</th>\n",
       "    </tr>\n",
       "  </thead>\n",
       "  <tbody>\n",
       "    <tr>\n",
       "      <th>0</th>\n",
       "      <td>1</td>\n",
       "      <td>1</td>\n",
       "      <td>0</td>\n",
       "      <td>29</td>\n",
       "      <td>211.34</td>\n",
       "      <td>1</td>\n",
       "    </tr>\n",
       "    <tr>\n",
       "      <th>1</th>\n",
       "      <td>1</td>\n",
       "      <td>1</td>\n",
       "      <td>1</td>\n",
       "      <td>1</td>\n",
       "      <td>151.55</td>\n",
       "      <td>1</td>\n",
       "    </tr>\n",
       "    <tr>\n",
       "      <th>2</th>\n",
       "      <td>1</td>\n",
       "      <td>0</td>\n",
       "      <td>0</td>\n",
       "      <td>2</td>\n",
       "      <td>151.55</td>\n",
       "      <td>1</td>\n",
       "    </tr>\n",
       "    <tr>\n",
       "      <th>3</th>\n",
       "      <td>1</td>\n",
       "      <td>0</td>\n",
       "      <td>1</td>\n",
       "      <td>30</td>\n",
       "      <td>151.55</td>\n",
       "      <td>1</td>\n",
       "    </tr>\n",
       "    <tr>\n",
       "      <th>4</th>\n",
       "      <td>1</td>\n",
       "      <td>0</td>\n",
       "      <td>0</td>\n",
       "      <td>25</td>\n",
       "      <td>151.55</td>\n",
       "      <td>1</td>\n",
       "    </tr>\n",
       "    <tr>\n",
       "      <th>...</th>\n",
       "      <td>...</td>\n",
       "      <td>...</td>\n",
       "      <td>...</td>\n",
       "      <td>...</td>\n",
       "      <td>...</td>\n",
       "      <td>...</td>\n",
       "    </tr>\n",
       "    <tr>\n",
       "      <th>1304</th>\n",
       "      <td>3</td>\n",
       "      <td>0</td>\n",
       "      <td>0</td>\n",
       "      <td>14</td>\n",
       "      <td>14.45</td>\n",
       "      <td>2</td>\n",
       "    </tr>\n",
       "    <tr>\n",
       "      <th>1305</th>\n",
       "      <td>3</td>\n",
       "      <td>0</td>\n",
       "      <td>0</td>\n",
       "      <td>30</td>\n",
       "      <td>14.45</td>\n",
       "      <td>2</td>\n",
       "    </tr>\n",
       "    <tr>\n",
       "      <th>1306</th>\n",
       "      <td>3</td>\n",
       "      <td>0</td>\n",
       "      <td>1</td>\n",
       "      <td>26</td>\n",
       "      <td>7.22</td>\n",
       "      <td>2</td>\n",
       "    </tr>\n",
       "    <tr>\n",
       "      <th>1307</th>\n",
       "      <td>3</td>\n",
       "      <td>0</td>\n",
       "      <td>1</td>\n",
       "      <td>27</td>\n",
       "      <td>7.22</td>\n",
       "      <td>2</td>\n",
       "    </tr>\n",
       "    <tr>\n",
       "      <th>1308</th>\n",
       "      <td>3</td>\n",
       "      <td>0</td>\n",
       "      <td>1</td>\n",
       "      <td>29</td>\n",
       "      <td>7.88</td>\n",
       "      <td>1</td>\n",
       "    </tr>\n",
       "  </tbody>\n",
       "</table>\n",
       "<p>1309 rows × 6 columns</p>\n",
       "</div>"
      ],
      "text/plain": [
       "      pclass  survived  sex  age    fare  embarked\n",
       "0          1         1    0   29  211.34         1\n",
       "1          1         1    1    1  151.55         1\n",
       "2          1         0    0    2  151.55         1\n",
       "3          1         0    1   30  151.55         1\n",
       "4          1         0    0   25  151.55         1\n",
       "...      ...       ...  ...  ...     ...       ...\n",
       "1304       3         0    0   14   14.45         2\n",
       "1305       3         0    0   30   14.45         2\n",
       "1306       3         0    1   26    7.22         2\n",
       "1307       3         0    1   27    7.22         2\n",
       "1308       3         0    1   29    7.88         1\n",
       "\n",
       "[1309 rows x 6 columns]"
      ]
     },
     "execution_count": 30,
     "metadata": {},
     "output_type": "execute_result"
    }
   ],
   "source": [
    "df = data_cleaning()\n",
    "df"
   ]
  },
  {
   "cell_type": "code",
   "execution_count": 32,
   "metadata": {},
   "outputs": [],
   "source": [
    "seed_split = 43\n",
    "test_size = 0.20\n",
    "seed_model = 44"
   ]
  },
  {
   "cell_type": "code",
   "execution_count": 31,
   "metadata": {},
   "outputs": [],
   "source": [
    "X = df.drop('survived', axis=1)\n",
    "y = df['survived']\n"
   ]
  },
  {
   "cell_type": "code",
   "execution_count": 33,
   "metadata": {},
   "outputs": [
    {
     "data": {
      "text/plain": [
       "((1047, 5), (1047,), (262, 5), (262,))"
      ]
     },
     "execution_count": 33,
     "metadata": {},
     "output_type": "execute_result"
    }
   ],
   "source": [
    "X_train, X_test, y_train, y_test = train_test_split(X, y, test_size=test_size, random_state=seed_split)\n",
    "\n",
    "X_train.shape, y_train.shape, X_test.shape, y_test.shape"
   ]
  },
  {
   "cell_type": "code",
   "execution_count": 36,
   "metadata": {},
   "outputs": [],
   "source": [
    "scaler = MinMaxScaler()\n",
    "scaler.fit(X_train)\n",
    "\n",
    "X_train = scaler.transform(X_train)\n",
    "X_test  = scaler.transform(X_test)"
   ]
  },
  {
   "cell_type": "code",
   "execution_count": 38,
   "metadata": {},
   "outputs": [
    {
     "data": {
      "text/plain": [
       "LogisticRegression(C=0.0005, class_weight='balanced', random_state=44)"
      ]
     },
     "execution_count": 38,
     "metadata": {},
     "output_type": "execute_result"
    }
   ],
   "source": [
    "model = LogisticRegression(class_weight='balanced', random_state=seed_model)\n",
    "model.fit(X_train, y_train)"
   ]
  },
  {
   "cell_type": "code",
   "execution_count": 41,
   "metadata": {},
   "outputs": [
    {
     "name": "stdout",
     "output_type": "stream",
     "text": [
      "train roc-auc : 0.8278259396701724\n",
      "train accuracy: 0.7812798471824259\n",
      "\n",
      "test roc-auc : 0.844754016064257\n",
      "test accuracy: 0.7824427480916031\n",
      "\n"
     ]
    }
   ],
   "source": [
    "for s, t in zip(['train','test'],[(X_train, y_train),(X_test,y_test)]):\n",
    "    x, y = t[0], t[1]\n",
    "    class_pred = model.predict(x)\n",
    "    proba_pred = model.predict_proba(x)[:,1]\n",
    "    print('{} roc-auc : {}'.format(s, roc_auc_score(y, proba_pred)))\n",
    "    print('{} accuracy: {}'.format(s, accuracy_score(y, class_pred)))\n",
    "    print()"
   ]
  }
 ],
 "metadata": {
  "kernelspec": {
   "display_name": "Python 3.7.9 ('venv': venv)",
   "language": "python",
   "name": "python3"
  },
  "language_info": {
   "codemirror_mode": {
    "name": "ipython",
    "version": 3
   },
   "file_extension": ".py",
   "mimetype": "text/x-python",
   "name": "python",
   "nbconvert_exporter": "python",
   "pygments_lexer": "ipython3",
   "version": "3.7.9"
  },
  "orig_nbformat": 4,
  "vscode": {
   "interpreter": {
    "hash": "9b11df2788cdf61fd83c12fc1a6c6cb4b187773b2b9affee8df3fa53fc52121c"
   }
  }
 },
 "nbformat": 4,
 "nbformat_minor": 2
}
